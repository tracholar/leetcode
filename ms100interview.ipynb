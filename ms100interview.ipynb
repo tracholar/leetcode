{
 "metadata": {
  "name": "",
  "signature": "sha256:6b44b392dc2135c3d32f424a5f654e1c808125d74098b482bd4d367b866fdb6d"
 },
 "nbformat": 3,
 "nbformat_minor": 0,
 "worksheets": [
  {
   "cells": [
    {
     "cell_type": "markdown",
     "metadata": {},
     "source": [
      "# \u5fae\u8f6f\u7b49100\u9898\u7cfb\u5217\n",
      "\n",
      "\u539f\u59cb\u9898\u76ee\u94fe\u63a5\u89c1[\u5fae\u8f6f\u516c\u53f8\u7b49\u6570\u636e\u7ed3\u6784+\u7b97\u6cd5\u9762\u8bd5100\u9898(\u7b2c1-100\u9898)\u5168\u90e8\u51fa\u7089](http://blog.csdn.net/v_JULY_v/article/details/6057286)\n"
     ]
    },
    {
     "cell_type": "markdown",
     "metadata": {},
     "source": [
      "1. \u628a\u4e8c\u5143\u67e5\u627e\u6811\u8f6c\u53d8\u6210\u6392\u5e8f\u7684\u53cc\u5411\u94fe\u8868\uff08\u6811\uff09\n",
      "\n",
      " \u9898\u76ee\uff1a    \n",
      "\u8f93\u5165\u4e00\u68f5\u4e8c\u5143\u67e5\u627e\u6811\uff0c\u5c06\u8be5\u4e8c\u5143\u67e5\u627e\u6811\u8f6c\u6362\u6210\u4e00\u4e2a\u6392\u5e8f\u7684\u53cc\u5411\u94fe\u8868\u3002\n",
      "\u8981\u6c42\u4e0d\u80fd\u521b\u5efa\u4efb\u4f55\u65b0\u7684\u7ed3\u70b9\uff0c\u53ea\u8c03\u6574\u6307\u9488\u7684\u6307\u5411\u3002\n",
      "```\n",
      "   10\n",
      "  / /\n",
      "  6  14\n",
      " / / / /\n",
      "4  8 12 16\n",
      "```\n",
      " \u8f6c\u6362\u6210\u53cc\u5411\u94fe\u8868\n",
      "4=6=8=10=12=14=16\u3002"
     ]
    },
    {
     "cell_type": "code",
     "collapsed": false,
     "input": [
      "class Node(object):\n",
      "    value = None\n",
      "    left = None\n",
      "    right = None\n",
      "    def __init__(self, v=None):\n",
      "        self.value = v\n",
      "    def __repr__(self):\n",
      "        return 'Node(%s)' % str(self.value)"
     ],
     "language": "python",
     "metadata": {},
     "outputs": [],
     "prompt_number": 33
    },
    {
     "cell_type": "code",
     "collapsed": false,
     "input": [
      "def CreateNode(L):\n",
      "    if len(L)==0:\n",
      "        return None\n",
      "    T = Node(L[0])\n",
      "    if len(L)==2:\n",
      "        T.left = Node(L[1])\n",
      "        return T\n",
      "    T.left = CreateNode(L[1:len(L):2])\n",
      "    T.right = CreateNode(L[2:len(L):2])\n",
      "    return T\n",
      "def PrintTree(T):\n",
      "    if T is None:\n",
      "        return\n",
      "    PrintTree(T.left)\n",
      "    print T.value,\n",
      "    PrintTree(T.right)"
     ],
     "language": "python",
     "metadata": {},
     "outputs": [],
     "prompt_number": 111
    },
    {
     "cell_type": "code",
     "collapsed": false,
     "input": [
      "def Tree2List(T):\n",
      "    if T is None:\n",
      "        return None,None\n",
      "    \n",
      "    if T.left is None:\n",
      "        head = T\n",
      "    else:\n",
      "        head,tail = Tree2List(T.left)\n",
      "        if tail is not None:\n",
      "            tail.right = T\n",
      "        T.left = tail\n",
      "    \n",
      "    if T.right is None:\n",
      "        tail2 = T\n",
      "    else:\n",
      "        head2, tail2 = Tree2List(T.right)\n",
      "        T.right = head2\n",
      "\n",
      "        if head2 is not None:\n",
      "            head2.left = T\n",
      "\n",
      "    # print T,T.left,T.right\n",
      "    \n",
      "    return head,tail2"
     ],
     "language": "python",
     "metadata": {},
     "outputs": [],
     "prompt_number": 98
    },
    {
     "cell_type": "code",
     "collapsed": false,
     "input": [
      "T = CreateNode([10,6,14,4,12,8,16])\n",
      "PrintTree(T)\n",
      "head, tail = Tree2List(T)"
     ],
     "language": "python",
     "metadata": {},
     "outputs": [
      {
       "output_type": "stream",
       "stream": "stdout",
       "text": [
        "4 6 8 10 12 14 16\n"
       ]
      }
     ],
     "prompt_number": 112
    },
    {
     "cell_type": "code",
     "collapsed": false,
     "input": [
      "p = head\n",
      "while p is not None:\n",
      "    print p.value,\n",
      "    p = p.right"
     ],
     "language": "python",
     "metadata": {},
     "outputs": [
      {
       "output_type": "stream",
       "stream": "stdout",
       "text": [
        "4 6 8 10 12 14 16\n"
       ]
      }
     ],
     "prompt_number": 115
    },
    {
     "cell_type": "code",
     "collapsed": false,
     "input": [
      "p = tail\n",
      "while p is not None:\n",
      "    print p.value,\n",
      "    p = p.left"
     ],
     "language": "python",
     "metadata": {},
     "outputs": [
      {
       "output_type": "stream",
       "stream": "stdout",
       "text": [
        "16 14 12 10 8 6 4\n"
       ]
      }
     ],
     "prompt_number": 116
    },
    {
     "cell_type": "code",
     "collapsed": false,
     "input": [],
     "language": "python",
     "metadata": {},
     "outputs": []
    }
   ],
   "metadata": {}
  }
 ]
}
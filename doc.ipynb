{
 "metadata": {
  "name": "",
  "signature": "sha256:41aef26ccf7612c2ffa67ed1737d13b44bc342e6b74efc8ac1d14d344babac8e"
 },
 "nbformat": 3,
 "nbformat_minor": 0,
 "worksheets": [
  {
   "cells": [
    {
     "cell_type": "markdown",
     "metadata": {},
     "source": [
      "# Leetcode\u5237\u9898\u6307\u5357\n",
      "\u6b63\u503c\u627e\u5de5\u4f5c\u671f\u95f4\uff0c\u867d\u7136\u662f\u627e\u673a\u5668\u5b66\u4e60\u548c\u6570\u636e\u6316\u6398\u76f8\u5173\u7684\u5c97\u4f4d\uff0c\n",
      "\u4f46\u662f\u6df1\u611f\u7b97\u6cd5\u80fd\u529b\u8fd8\u662f\u6709\u5f85\u63d0\u9ad8\uff0c\u4e8e\u662f\u6253\u7b97\u5237\u4e00\u5237leetcode\n",
      "\u7684\u9898\u76ee\uff0c\u540c\u65f6\u5e0c\u671b\u5c06\u5237\u9898\u8fc7\u7a0b\u4e2d\u7684\u601d\u8003\u8bb0\u5f55\u4e0b\u6765\uff0c\u4e8e\u662f\u6709\u4e86\u8fd9\u4e2a\n",
      "\u9879\u76ee\u3002"
     ]
    },
    {
     "cell_type": "markdown",
     "metadata": {},
     "source": [
      "## two sum\n",
      "\u9898\u76ee\u94fe\u63a5[https://leetcode.com/problems/two-sum/](https://leetcode.com/problems/two-sum/)  \n",
      "\u89e3\u7b54\u89c1 [src/two_sum.cpp](src/two_sum.cpp)\n",
      "> Given an array of integers, find two numbers such that they add up to a specific target number.\n",
      ">\n",
      "> The function twoSum should return indices of the two numbers such that they add up to the target, where index1 must be less than index2. Please note \n",
      "> that your returned answers (both index1 and index2) are not zero-based.\n",
      ">\n",
      "> You may assume that each input would have exactly one solution.\n",
      ">\n",
      "> Input: numbers={2, 7, 11, 15}, target=9\n",
      "> Output: index1=1, index2=2\n",
      "\n",
      "\u57fa\u672c\u601d\u8def\uff0c\u5982\u679c\u76f4\u63a5\u904d\u5386\u9700\u8981\u4e24\u91cd`for`\u5faa\u73af\uff0c\u7b2c\u4e8c\u5c42\u5faa\u73af\u5b9e\u9645\u662f\u5728\u5bfb\u627e `target-i`\uff0c\u6240\u4ee5\u53ef\u4ee5\u7528\u4e00\u4e2ahash table\u5c06\u8fd9\u4e2a\u67e5\u627e\u4f18\u5316\u81f3O(1)\u3002"
     ]
    },
    {
     "cell_type": "markdown",
     "metadata": {},
     "source": [
      "## Best Time to Buy and Sell Stock I\n",
      "\u9898\u76ee\u94fe\u63a5[https://leetcode.com/problems/best-time-to-buy-and-sell-stock/](https://leetcode.com/problems/best-time-to-buy-and-sell-stock/)\n",
      "\n",
      "> Say you have an array for which the ith element is the price of a given stock on day i.\n",
      ">\n",
      "> If you were only permitted to complete at most one transaction (ie, buy one and sell one share of the stock), design an algorithm to find the maximum\n",
      "> profit.\n",
      "\n",
      "\u57fa\u672c\u601d\u8def\uff0c\u52a8\u6001\u89c4\u5212\uff0c\u8bbe$a$\u662f\u8be5\u6570\u7ec4\uff0c$min_j$\u662f\u4ece0\u5230j\u4e2d\u6700\u5c0f\u503c\uff0c$P_j$\u662f0\u5230j\u7684\u6700\u5927\u6536\u76ca\uff0c\u90a3\u4e48\u5230j\u65f6\u523b\uff0c\u6700\u5927\u6536\u76ca\u8981\u4e48\u4e0d\u662f\u5728\u7b2cj+1\u5929\u5356\u7684\u4e3a$P_j$\uff0c\u8981\u4e48\u662f\u7b2cj+1\u5929\u5356\u7684\uff0c\u662f$a_{j+1}-min_j$\uff0c\u6700\u5927\u6536\u76ca\u662f\u8fd9\u4e24\u8005\u4e2d\u6700\u5927\u7684\u3002\n",
      "$$\n",
      "P_{n} = max\\{P_{n-1}, a[n] - min_{n-1}\\}\n",
      "$$"
     ]
    },
    {
     "cell_type": "markdown",
     "metadata": {},
     "source": [
      "## Best Time to Buy and Sell Stock II\n",
      "\u9898\u76ee\u94fe\u63a5[https://leetcode.com/problems/best-time-to-buy-and-sell-stock-ii](https://leetcode.com/problems/best-time-to-buy-and-sell-stock-ii)\n",
      "\n",
      "> Say you have an array for which the ith element is the price of a given stock on day i.\n",
      ">\n",
      "> Design an algorithm to find the maximum profit. You may complete as many transactions as you like (ie, buy one and sell one share of the stock multiple times). However, you may not engage in multiple transactions at the same time (ie, you must sell the stock before you buy again).\n",
      "\n",
      "\u548c\u4e0a\u4e00\u9898\u4e0d\u540c\u7684\u662f\u53ef\u4ee5\u4e70\u5356\u591a\u6b21\uff0c\u5229\u7528\u4e0a\u9762\u7684\u7b26\u53f7\uff0c\u90a3\u4e48\n",
      "$$\n",
      "P2_{n} = P2_{n-1}+P[n-1,n] \\}\n",
      "$$\n",
      "\u6ce8\u610f\u4e0d\u64cd\u4f5c\u7b49\u4ef7\u4e8e\u5148\u5356\u540e\u4e70\uff0c$P[a,b]$\u662f\u4ecea\u5230b\u6700\u591a\u4ea4\u6613\u4e00\u6b21\u3002"
     ]
    },
    {
     "cell_type": "markdown",
     "metadata": {},
     "source": [
      "## Best Time to Buy and Sell Stock III\n",
      "> Say you have an array for which the ith element is the price of a given stock on day i.\n",
      ">\n",
      "> Design an algorithm to find the maximum profit. You may complete at most two transactions.\n",
      ">\n",
      "> Note:\n",
      "> You may not engage in multiple transactions at the same time (ie, you must sell the stock before you buy again).\n",
      "\n",
      "\u6700\u591a\u4ea4\u6613\u4e24\u6b21\uff0c\n",
      "$$\n",
      "P3_n = max_k(P[0,k]+P[k+1,n])\n",
      "$$\n",
      "\u6240\u4ee5\u4e24\u6b21\u904d\u5386\u5373\u53ef\u5f97\u5230\u6700\u5927\u503c\u3002"
     ]
    },
    {
     "cell_type": "markdown",
     "metadata": {},
     "source": [
      "## \u6700\u957f\u516c\u5171\u5b50\u4e32LCS\n",
      "\u7528dp\u8868\u793a\u4ee5x[i]\u548cy[j]\u7ed3\u5c3e\u7684\u6700\u957f\u5b50\u4e32\u957f\u5ea6\uff0c\u90a3\u4e48\u6709DP\u516c\u5f0f\n",
      "$$\n",
      "dp[i][j] = dp[i-1][j-1] + 1, x[i]=y[j]  \\\\\n",
      "      = 0, otherwise\n",
      "$$\n",
      "\u53d8\u6210\u6c42dp\u7684\u6700\u5927\u503c\u4e86\uff01\u7a7a\u95f4\u590d\u6742\u5ea6\u53ef\u4ee5\u901a\u8fc7\u6eda\u52a8\u6570\u7ec4\u4f18\u5316\u5230O(n)"
     ]
    },
    {
     "cell_type": "code",
     "collapsed": false,
     "input": [
      "def LCS(x,y):\n",
      "    dp = [0]*len(y)\n",
      "    maxl = 0\n",
      "    for i in range(len(x)):\n",
      "        for j in range(len(y)-1,-1,-1):\n",
      "            if x[i]==y[j]:\n",
      "                dp[j] = dp[j-1]+1\n",
      "            else:\n",
      "                dp[j] = 0\n",
      "            maxl = max(maxl, dp[j])\n",
      "    return maxl\n",
      "\n",
      "print LCS('abchhhhhdefg','bchhhhhhhhhhhhhhhhhhhhhhhhhhh')"
     ],
     "language": "python",
     "metadata": {},
     "outputs": [
      {
       "output_type": "stream",
       "stream": "stdout",
       "text": [
        "7\n"
       ]
      }
     ],
     "prompt_number": 13
    },
    {
     "cell_type": "markdown",
     "metadata": {},
     "source": [
      "## \u6700\u5927K\u4e2a\u6570\n",
      "\u76f4\u63a5\u9009\u62e9\uff0c\u65f6\u95f4\u590d\u6742\u5ea6O(N*K)\uff0c\u5229\u7528\u5c0f\u9876\u5806\uff0c\u53ef\u4ee5\u964d\u5230O(N*logK)"
     ]
    },
    {
     "cell_type": "markdown",
     "metadata": {},
     "source": [
      "## \u5927\u6570\u52a0\u6cd5\n"
     ]
    },
    {
     "cell_type": "code",
     "collapsed": false,
     "input": [
      "def BigNumAdd(a,b):\n",
      "    n = len(a)\n",
      "    m = len(b)\n",
      "    c = []\n",
      "    bit = 0\n",
      "    for i in range(max(n,m)):\n",
      "        \n",
      "        if i<n:\n",
      "            x = int(a[n-1-i])\n",
      "        else:\n",
      "            x = 0\n",
      "        if i<m:\n",
      "            y = int(b[m-1-i])\n",
      "        else:\n",
      "            y = 0\n",
      "        #print x,y,x+y+bit%10\n",
      "        c.insert(0,str((x+y+bit)%10))\n",
      "        bit = int((x+y+bit)/10)\n",
      "        \n",
      "    return ''.join(c)\n",
      "\n",
      "BigNumAdd('102323236687653534532452344234234434234234324432423','243423787798797897987888888888888888888888888888888888888888884463456575687546756735673567356753673568899999')"
     ],
     "language": "python",
     "metadata": {},
     "outputs": [
      {
       "metadata": {},
       "output_type": "pyout",
       "prompt_number": 51,
       "text": [
        "'243423787798797897987888888888888888888888888888888888888991207700144229222079209079907801790987907893332422'"
       ]
      }
     ],
     "prompt_number": 51
    },
    {
     "cell_type": "code",
     "collapsed": false,
     "input": [],
     "language": "python",
     "metadata": {},
     "outputs": []
    }
   ],
   "metadata": {}
  }
 ]
}